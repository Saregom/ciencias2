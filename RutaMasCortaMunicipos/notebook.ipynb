{
 "cells": [
  {
   "cell_type": "code",
   "execution_count": null,
   "metadata": {},
   "outputs": [],
   "source": [
    "import pandas as pd\n",
    "\n",
    "csv_df = pd.read_csv('conexiones.csv')\n",
    "\n",
    "csv_df.head()"
   ]
  },
  {
   "cell_type": "markdown",
   "metadata": {},
   "source": [
    "MIERDA NO SIRVE"
   ]
  },
  {
   "cell_type": "code",
   "execution_count": null,
   "metadata": {},
   "outputs": [],
   "source": [
    "from geopy.geocoders import Nominatim\n",
    "from geopy.distance import geodesic\n",
    "\n",
    "geolocator = Nominatim(user_agent=\"geoapiExercises\")\n",
    "coordenadas = {}\n",
    "for municipio in csv_df.iloc[:, 0]:\n",
    "    location = geolocator.geocode(f\"{municipio}, Colombia\")\n",
    "    if location:\n",
    "        coordenadas[municipio] = {'latitude': location.latitude, 'longitude': location.longitude}\n",
    "    else:\n",
    "        print(f\"No se encontraron coordenadas para {municipio}\")"
   ]
  },
  {
   "cell_type": "code",
   "execution_count": null,
   "metadata": {},
   "outputs": [],
   "source": [
    "print(coordenadas)\n",
    "\n",
    "coordenates_df = pd.DataFrame(coordenadas)\n",
    "coordenates_df.to_json('coordenates.json', force_ascii=False)"
   ]
  },
  {
   "cell_type": "code",
   "execution_count": null,
   "metadata": {},
   "outputs": [],
   "source": [
    "# Recorre las filas de la matriz\n",
    "# Recorre las columnas de la matriz\n",
    "# Recorre cada fila de la matriz\n",
    "\n",
    "#ver conexiones por fila\n",
    "for index, row in csv_df.iterrows():\n",
    "    municipio = row[0]\n",
    "    print(f\"Municipio: {municipio}\")\n",
    "    for i, conexion in enumerate(row[1:]):\n",
    "        municipio_conectado = csv_df.columns[i + 1]\n",
    "        if conexion == 1:\n",
    "            print(f\"  Conectado con: {municipio_conectado}\")"
   ]
  }
 ],
 "metadata": {
  "kernelspec": {
   "display_name": "Python 3",
   "language": "python",
   "name": "python3"
  },
  "language_info": {
   "codemirror_mode": {
    "name": "ipython",
    "version": 3
   },
   "file_extension": ".py",
   "mimetype": "text/x-python",
   "name": "python",
   "nbconvert_exporter": "python",
   "pygments_lexer": "ipython3",
   "version": "3.11.4"
  }
 },
 "nbformat": 4,
 "nbformat_minor": 2
}
